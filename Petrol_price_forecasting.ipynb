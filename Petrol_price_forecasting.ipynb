{
  "cells": [
    {
      "cell_type": "code",
      "execution_count": 1,
      "metadata": {
        "id": "oEgFtpqk6yyi"
      },
      "outputs": [],
      "source": [
        "import pandas as pd\n",
        "import numpy as np\n",
        "from matplotlib import pyplot as plt\n",
        "%matplotlib inline\n",
        "import matplotlib"
      ]
    },
    {
      "cell_type": "markdown",
      "metadata": {
        "id": "rpXqlLYBN40D"
      },
      "source": [
        "### Imp note about the dataset:\n",
        "- The data is only till 2018 as I couldn't find a dataset with data after 2018.\n",
        "- The original dataset contains prices mentioned in USD*100,as the petrol prices are always known in rupees, later we will convert them to rupees using USD-Rupee conversion."
      ]
    },
    {
      "cell_type": "code",
      "execution_count": 64,
      "metadata": {
        "colab": {
          "base_uri": "https://localhost:8080/",
          "height": 206
        },
        "id": "d3f5fIaHJ3zQ",
        "outputId": "9a45cd6c-d40e-450c-bb8d-c47164a01d24"
      },
      "outputs": [
        {
          "data": {
            "text/html": [
              "\n",
              "  <div id=\"df-bdee9028-ac94-437e-affc-bb9bd1db0509\">\n",
              "    <div class=\"colab-df-container\">\n",
              "      <div>\n",
              "<style scoped>\n",
              "    .dataframe tbody tr th:only-of-type {\n",
              "        vertical-align: middle;\n",
              "    }\n",
              "\n",
              "    .dataframe tbody tr th {\n",
              "        vertical-align: top;\n",
              "    }\n",
              "\n",
              "    .dataframe thead th {\n",
              "        text-align: right;\n",
              "    }\n",
              "</style>\n",
              "<table border=\"1\" class=\"dataframe\">\n",
              "  <thead>\n",
              "    <tr style=\"text-align: right;\">\n",
              "      <th></th>\n",
              "      <th>Date</th>\n",
              "      <th>Petrol (USD)</th>\n",
              "    </tr>\n",
              "  </thead>\n",
              "  <tbody>\n",
              "    <tr>\n",
              "      <th>0</th>\n",
              "      <td>6/9/2003</td>\n",
              "      <td>74.59</td>\n",
              "    </tr>\n",
              "    <tr>\n",
              "      <th>1</th>\n",
              "      <td>6/16/2003</td>\n",
              "      <td>74.47</td>\n",
              "    </tr>\n",
              "    <tr>\n",
              "      <th>2</th>\n",
              "      <td>6/23/2003</td>\n",
              "      <td>74.42</td>\n",
              "    </tr>\n",
              "    <tr>\n",
              "      <th>3</th>\n",
              "      <td>6/30/2003</td>\n",
              "      <td>74.35</td>\n",
              "    </tr>\n",
              "    <tr>\n",
              "      <th>4</th>\n",
              "      <td>7/7/2003</td>\n",
              "      <td>74.28</td>\n",
              "    </tr>\n",
              "  </tbody>\n",
              "</table>\n",
              "</div>\n",
              "      <button class=\"colab-df-convert\" onclick=\"convertToInteractive('df-bdee9028-ac94-437e-affc-bb9bd1db0509')\"\n",
              "              title=\"Convert this dataframe to an interactive table.\"\n",
              "              style=\"display:none;\">\n",
              "        \n",
              "  <svg xmlns=\"http://www.w3.org/2000/svg\" height=\"24px\"viewBox=\"0 0 24 24\"\n",
              "       width=\"24px\">\n",
              "    <path d=\"M0 0h24v24H0V0z\" fill=\"none\"/>\n",
              "    <path d=\"M18.56 5.44l.94 2.06.94-2.06 2.06-.94-2.06-.94-.94-2.06-.94 2.06-2.06.94zm-11 1L8.5 8.5l.94-2.06 2.06-.94-2.06-.94L8.5 2.5l-.94 2.06-2.06.94zm10 10l.94 2.06.94-2.06 2.06-.94-2.06-.94-.94-2.06-.94 2.06-2.06.94z\"/><path d=\"M17.41 7.96l-1.37-1.37c-.4-.4-.92-.59-1.43-.59-.52 0-1.04.2-1.43.59L10.3 9.45l-7.72 7.72c-.78.78-.78 2.05 0 2.83L4 21.41c.39.39.9.59 1.41.59.51 0 1.02-.2 1.41-.59l7.78-7.78 2.81-2.81c.8-.78.8-2.07 0-2.86zM5.41 20L4 18.59l7.72-7.72 1.47 1.35L5.41 20z\"/>\n",
              "  </svg>\n",
              "      </button>\n",
              "      \n",
              "  <style>\n",
              "    .colab-df-container {\n",
              "      display:flex;\n",
              "      flex-wrap:wrap;\n",
              "      gap: 12px;\n",
              "    }\n",
              "\n",
              "    .colab-df-convert {\n",
              "      background-color: #E8F0FE;\n",
              "      border: none;\n",
              "      border-radius: 50%;\n",
              "      cursor: pointer;\n",
              "      display: none;\n",
              "      fill: #1967D2;\n",
              "      height: 32px;\n",
              "      padding: 0 0 0 0;\n",
              "      width: 32px;\n",
              "    }\n",
              "\n",
              "    .colab-df-convert:hover {\n",
              "      background-color: #E2EBFA;\n",
              "      box-shadow: 0px 1px 2px rgba(60, 64, 67, 0.3), 0px 1px 3px 1px rgba(60, 64, 67, 0.15);\n",
              "      fill: #174EA6;\n",
              "    }\n",
              "\n",
              "    [theme=dark] .colab-df-convert {\n",
              "      background-color: #3B4455;\n",
              "      fill: #D2E3FC;\n",
              "    }\n",
              "\n",
              "    [theme=dark] .colab-df-convert:hover {\n",
              "      background-color: #434B5C;\n",
              "      box-shadow: 0px 1px 3px 1px rgba(0, 0, 0, 0.15);\n",
              "      filter: drop-shadow(0px 1px 2px rgba(0, 0, 0, 0.3));\n",
              "      fill: #FFFFFF;\n",
              "    }\n",
              "  </style>\n",
              "\n",
              "      <script>\n",
              "        const buttonEl =\n",
              "          document.querySelector('#df-bdee9028-ac94-437e-affc-bb9bd1db0509 button.colab-df-convert');\n",
              "        buttonEl.style.display =\n",
              "          google.colab.kernel.accessAllowed ? 'block' : 'none';\n",
              "\n",
              "        async function convertToInteractive(key) {\n",
              "          const element = document.querySelector('#df-bdee9028-ac94-437e-affc-bb9bd1db0509');\n",
              "          const dataTable =\n",
              "            await google.colab.kernel.invokeFunction('convertToInteractive',\n",
              "                                                     [key], {});\n",
              "          if (!dataTable) return;\n",
              "\n",
              "          const docLinkHtml = 'Like what you see? Visit the ' +\n",
              "            '<a target=\"_blank\" href=https://colab.research.google.com/notebooks/data_table.ipynb>data table notebook</a>'\n",
              "            + ' to learn more about interactive tables.';\n",
              "          element.innerHTML = '';\n",
              "          dataTable['output_type'] = 'display_data';\n",
              "          await google.colab.output.renderOutput(dataTable, element);\n",
              "          const docLink = document.createElement('div');\n",
              "          docLink.innerHTML = docLinkHtml;\n",
              "          element.appendChild(docLink);\n",
              "        }\n",
              "      </script>\n",
              "    </div>\n",
              "  </div>\n",
              "  "
            ],
            "text/plain": [
              "        Date  Petrol (USD)\n",
              "0   6/9/2003         74.59\n",
              "1  6/16/2003         74.47\n",
              "2  6/23/2003         74.42\n",
              "3  6/30/2003         74.35\n",
              "4   7/7/2003         74.28"
            ]
          },
          "execution_count": 64,
          "metadata": {},
          "output_type": "execute_result"
        }
      ],
      "source": [
        "df1 = pd.read_csv('train_data.csv')\n",
        "df1.head()"
      ]
    },
    {
      "cell_type": "code",
      "execution_count": 65,
      "metadata": {
        "colab": {
          "base_uri": "https://localhost:8080/"
        },
        "id": "OkMsEwzxQTW8",
        "outputId": "6f6bff7d-904a-4083-ca58-29fa97da0550"
      },
      "outputs": [
        {
          "data": {
            "text/plain": [
              "Date            0\n",
              "Petrol (USD)    2\n",
              "dtype: int64"
            ]
          },
          "execution_count": 65,
          "metadata": {},
          "output_type": "execute_result"
        }
      ],
      "source": [
        "df1.isnull().sum()"
      ]
    },
    {
      "cell_type": "code",
      "execution_count": 66,
      "metadata": {
        "id": "zVoXIOH1QoyJ"
      },
      "outputs": [],
      "source": [
        "df1 = df1.dropna()"
      ]
    },
    {
      "cell_type": "code",
      "execution_count": 67,
      "metadata": {
        "colab": {
          "base_uri": "https://localhost:8080/",
          "height": 206
        },
        "id": "xM1VnFqCQs1m",
        "outputId": "3e71b300-7769-4bbf-cb33-45c66a241729"
      },
      "outputs": [
        {
          "data": {
            "text/html": [
              "\n",
              "  <div id=\"df-2c1aaa22-f4ae-4ea0-8c48-94ec922b08bd\">\n",
              "    <div class=\"colab-df-container\">\n",
              "      <div>\n",
              "<style scoped>\n",
              "    .dataframe tbody tr th:only-of-type {\n",
              "        vertical-align: middle;\n",
              "    }\n",
              "\n",
              "    .dataframe tbody tr th {\n",
              "        vertical-align: top;\n",
              "    }\n",
              "\n",
              "    .dataframe thead th {\n",
              "        text-align: right;\n",
              "    }\n",
              "</style>\n",
              "<table border=\"1\" class=\"dataframe\">\n",
              "  <thead>\n",
              "    <tr style=\"text-align: right;\">\n",
              "      <th></th>\n",
              "      <th>Date</th>\n",
              "      <th>Petrol</th>\n",
              "    </tr>\n",
              "  </thead>\n",
              "  <tbody>\n",
              "    <tr>\n",
              "      <th>0</th>\n",
              "      <td>6/9/2003</td>\n",
              "      <td>74.59</td>\n",
              "    </tr>\n",
              "    <tr>\n",
              "      <th>1</th>\n",
              "      <td>6/16/2003</td>\n",
              "      <td>74.47</td>\n",
              "    </tr>\n",
              "    <tr>\n",
              "      <th>2</th>\n",
              "      <td>6/23/2003</td>\n",
              "      <td>74.42</td>\n",
              "    </tr>\n",
              "    <tr>\n",
              "      <th>3</th>\n",
              "      <td>6/30/2003</td>\n",
              "      <td>74.35</td>\n",
              "    </tr>\n",
              "    <tr>\n",
              "      <th>4</th>\n",
              "      <td>7/7/2003</td>\n",
              "      <td>74.28</td>\n",
              "    </tr>\n",
              "  </tbody>\n",
              "</table>\n",
              "</div>\n",
              "      <button class=\"colab-df-convert\" onclick=\"convertToInteractive('df-2c1aaa22-f4ae-4ea0-8c48-94ec922b08bd')\"\n",
              "              title=\"Convert this dataframe to an interactive table.\"\n",
              "              style=\"display:none;\">\n",
              "        \n",
              "  <svg xmlns=\"http://www.w3.org/2000/svg\" height=\"24px\"viewBox=\"0 0 24 24\"\n",
              "       width=\"24px\">\n",
              "    <path d=\"M0 0h24v24H0V0z\" fill=\"none\"/>\n",
              "    <path d=\"M18.56 5.44l.94 2.06.94-2.06 2.06-.94-2.06-.94-.94-2.06-.94 2.06-2.06.94zm-11 1L8.5 8.5l.94-2.06 2.06-.94-2.06-.94L8.5 2.5l-.94 2.06-2.06.94zm10 10l.94 2.06.94-2.06 2.06-.94-2.06-.94-.94-2.06-.94 2.06-2.06.94z\"/><path d=\"M17.41 7.96l-1.37-1.37c-.4-.4-.92-.59-1.43-.59-.52 0-1.04.2-1.43.59L10.3 9.45l-7.72 7.72c-.78.78-.78 2.05 0 2.83L4 21.41c.39.39.9.59 1.41.59.51 0 1.02-.2 1.41-.59l7.78-7.78 2.81-2.81c.8-.78.8-2.07 0-2.86zM5.41 20L4 18.59l7.72-7.72 1.47 1.35L5.41 20z\"/>\n",
              "  </svg>\n",
              "      </button>\n",
              "      \n",
              "  <style>\n",
              "    .colab-df-container {\n",
              "      display:flex;\n",
              "      flex-wrap:wrap;\n",
              "      gap: 12px;\n",
              "    }\n",
              "\n",
              "    .colab-df-convert {\n",
              "      background-color: #E8F0FE;\n",
              "      border: none;\n",
              "      border-radius: 50%;\n",
              "      cursor: pointer;\n",
              "      display: none;\n",
              "      fill: #1967D2;\n",
              "      height: 32px;\n",
              "      padding: 0 0 0 0;\n",
              "      width: 32px;\n",
              "    }\n",
              "\n",
              "    .colab-df-convert:hover {\n",
              "      background-color: #E2EBFA;\n",
              "      box-shadow: 0px 1px 2px rgba(60, 64, 67, 0.3), 0px 1px 3px 1px rgba(60, 64, 67, 0.15);\n",
              "      fill: #174EA6;\n",
              "    }\n",
              "\n",
              "    [theme=dark] .colab-df-convert {\n",
              "      background-color: #3B4455;\n",
              "      fill: #D2E3FC;\n",
              "    }\n",
              "\n",
              "    [theme=dark] .colab-df-convert:hover {\n",
              "      background-color: #434B5C;\n",
              "      box-shadow: 0px 1px 3px 1px rgba(0, 0, 0, 0.15);\n",
              "      filter: drop-shadow(0px 1px 2px rgba(0, 0, 0, 0.3));\n",
              "      fill: #FFFFFF;\n",
              "    }\n",
              "  </style>\n",
              "\n",
              "      <script>\n",
              "        const buttonEl =\n",
              "          document.querySelector('#df-2c1aaa22-f4ae-4ea0-8c48-94ec922b08bd button.colab-df-convert');\n",
              "        buttonEl.style.display =\n",
              "          google.colab.kernel.accessAllowed ? 'block' : 'none';\n",
              "\n",
              "        async function convertToInteractive(key) {\n",
              "          const element = document.querySelector('#df-2c1aaa22-f4ae-4ea0-8c48-94ec922b08bd');\n",
              "          const dataTable =\n",
              "            await google.colab.kernel.invokeFunction('convertToInteractive',\n",
              "                                                     [key], {});\n",
              "          if (!dataTable) return;\n",
              "\n",
              "          const docLinkHtml = 'Like what you see? Visit the ' +\n",
              "            '<a target=\"_blank\" href=https://colab.research.google.com/notebooks/data_table.ipynb>data table notebook</a>'\n",
              "            + ' to learn more about interactive tables.';\n",
              "          element.innerHTML = '';\n",
              "          dataTable['output_type'] = 'display_data';\n",
              "          await google.colab.output.renderOutput(dataTable, element);\n",
              "          const docLink = document.createElement('div');\n",
              "          docLink.innerHTML = docLinkHtml;\n",
              "          element.appendChild(docLink);\n",
              "        }\n",
              "      </script>\n",
              "    </div>\n",
              "  </div>\n",
              "  "
            ],
            "text/plain": [
              "        Date  Petrol\n",
              "0   6/9/2003   74.59\n",
              "1  6/16/2003   74.47\n",
              "2  6/23/2003   74.42\n",
              "3  6/30/2003   74.35\n",
              "4   7/7/2003   74.28"
            ]
          },
          "execution_count": 67,
          "metadata": {},
          "output_type": "execute_result"
        }
      ],
      "source": [
        "df1.rename(columns= {\"Petrol (USD)\":\"Petrol\"},inplace=True)\n",
        "df1.head()"
      ]
    },
    {
      "cell_type": "code",
      "execution_count": 68,
      "metadata": {
        "colab": {
          "base_uri": "https://localhost:8080/",
          "height": 282
        },
        "id": "euZkj6zAQ8n5",
        "outputId": "c69b0763-9565-41ae-bfd5-23d23d5e8283"
      },
      "outputs": [
        {
          "data": {
            "text/plain": [
              "<matplotlib.collections.PathCollection at 0x7f3bf6357b80>"
            ]
          },
          "execution_count": 68,
          "metadata": {},
          "output_type": "execute_result"
        },
        {
          "data": {
            "image/png": "[encoded data removed]",
            "text/plain": [
              "<Figure size 432x288 with 1 Axes>"
            ]
          },
          "metadata": {
            "needs_background": "light"
          },
          "output_type": "display_data"
        }
      ],
      "source": [
        "plt.scatter(df1.Date,df1.Petrol,color='red',label='Prices',s=4)"
      ]
    },
    {
      "cell_type": "code",
      "execution_count": 69,
      "metadata": {
        "colab": {
          "base_uri": "https://localhost:8080/",
          "height": 282
        },
        "id": "E4gHc3isUkrh",
        "outputId": "3b48391b-7bec-4ce8-897f-6ce2ee0c4e32"
      },
      "outputs": [
        {
          "data": {
            "text/plain": [
              "<matplotlib.collections.PathCollection at 0x7f3bf63b3370>"
            ]
          },
          "execution_count": 69,
          "metadata": {},
          "output_type": "execute_result"
        },
        {
          "data": {
            "image/png": "[encoded data removed]",
            "text/plain": [
              "<Figure size 432x288 with 1 Axes>"
            ]
          },
          "metadata": {
            "needs_background": "light"
          },
          "output_type": "display_data"
        }
      ],
      "source": [
        "# Rejecting the outliers\n",
        "df1 = df1[df1.Petrol<160]\n",
        "plt.scatter(df1.Date,df1.Petrol, color='Blue',label='Prices',s=4)"
      ]
    },
    {
      "cell_type": "code",
      "execution_count": 70,
      "metadata": {
        "colab": {
          "base_uri": "https://localhost:8080/"
        },
        "id": "YyjACeTyVkaP",
        "outputId": "2a997224-8c2d-4e59-ca2c-f0a70b201ca2"
      },
      "outputs": [
        {
          "data": {
            "text/plain": [
              "0    74.59\n",
              "1    74.47\n",
              "2    74.42\n",
              "3    74.35\n",
              "4    74.28\n",
              "Name: Petrol, dtype: float64"
            ]
          },
          "execution_count": 70,
          "metadata": {},
          "output_type": "execute_result"
        }
      ],
      "source": [
        "df1 = df1.reset_index()['Petrol']\n",
        "df1.head()"
      ]
    },
    {
      "attachments": {},
      "cell_type": "markdown",
      "metadata": {},
      "source": [
        "Converting into INR"
      ]
    },
    {
      "cell_type": "code",
      "execution_count": 71,
      "metadata": {
        "id": "Ju5ug_Y4QfZ-"
      },
      "outputs": [],
      "source": [
        "df1 = df1/100*70.696"
      ]
    },
    {
      "cell_type": "code",
      "execution_count": 72,
      "metadata": {
        "colab": {
          "base_uri": "https://localhost:8080/"
        },
        "id": "bKFEDAskQpce",
        "outputId": "607f682d-aacd-4129-81fd-c98331b6543d"
      },
      "outputs": [
        {
          "data": {
            "text/plain": [
              "0      52.732146\n",
              "1      52.647311\n",
              "2      52.611963\n",
              "3      52.562476\n",
              "4      52.512989\n",
              "         ...    \n",
              "804    87.875128\n",
              "805    86.510695\n",
              "806    85.556299\n",
              "807    85.266446\n",
              "808    84.962453\n",
              "Name: Petrol, Length: 809, dtype: float64"
            ]
          },
          "execution_count": 72,
          "metadata": {},
          "output_type": "execute_result"
        }
      ],
      "source": [
        "df1"
      ]
    },
    {
      "cell_type": "code",
      "execution_count": 73,
      "metadata": {
        "id": "qB7qdlWNWC5T"
      },
      "outputs": [],
      "source": [
        "from sklearn.preprocessing import MinMaxScaler\n",
        "scaler = MinMaxScaler(feature_range = (0,1))\n",
        "df1 = scaler.fit_transform(np.array(df1).reshape(-1,1))"
      ]
    },
    {
      "cell_type": "code",
      "execution_count": 74,
      "metadata": {
        "id": "SeXioMdgWqVA"
      },
      "outputs": [],
      "source": [
        "training_size = int(len(df1)* 0.65)\n",
        "test_size = len(df1) - training_size\n",
        "train_data,test_data = df1[0:training_size,:], df1[training_size:len(df1),:1]"
      ]
    },
    {
      "cell_type": "code",
      "execution_count": 75,
      "metadata": {
        "colab": {
          "base_uri": "https://localhost:8080/"
        },
        "id": "SQlXOT0-Xw8L",
        "outputId": "7278cdec-718a-4c90-e74a-fa3b07121cfd"
      },
      "outputs": [
        {
          "name": "stdout",
          "output_type": "stream",
          "text": [
            "Training Size: 525, Test Size: 284\n"
          ]
        }
      ],
      "source": [
        "print(f'Training Size: {training_size}, Test Size: {test_size}')"
      ]
    },
    {
      "cell_type": "code",
      "execution_count": 76,
      "metadata": {
        "id": "iFR1hi4YX07b"
      },
      "outputs": [],
      "source": [
        "import numpy as np\n",
        "# Converting an array of values into a dataset Matrix\n",
        "def create_dataset(dataset,time_step):\n",
        "  dataX, dataY = [],[]\n",
        "  for i in range(len(dataset)-time_step-1):\n",
        "    a = dataset[i:(i+time_step),0]\n",
        "    dataX.append(a)\n",
        "    dataY.append(dataset[i+time_step,0])\n",
        "  return np.array(dataX) , np.array(dataY)"
      ]
    },
    {
      "cell_type": "code",
      "execution_count": 77,
      "metadata": {
        "id": "DIEDkEmKbUoP"
      },
      "outputs": [],
      "source": [
        "time_step = 100\n",
        "X_train , Y_train = create_dataset(train_data,time_step)\n",
        "X_test, Y_test = create_dataset(test_data,time_step)"
      ]
    },
    {
      "cell_type": "code",
      "execution_count": 78,
      "metadata": {
        "colab": {
          "base_uri": "https://localhost:8080/"
        },
        "id": "O8RPr4hwdbw6",
        "outputId": "5fe64640-e234-42f5-899c-fb6dd43626a1"
      },
      "outputs": [
        {
          "name": "stdout",
          "output_type": "stream",
          "text": [
            "(424, 100)\n",
            "(424,)\n"
          ]
        },
        {
          "data": {
            "text/plain": [
              "(None, None)"
            ]
          },
          "execution_count": 78,
          "metadata": {},
          "output_type": "execute_result"
        }
      ],
      "source": [
        "print(X_train.shape),print(Y_train.shape)"
      ]
    },
    {
      "cell_type": "code",
      "execution_count": 79,
      "metadata": {
        "id": "O7HJ9pPbdhWd"
      },
      "outputs": [],
      "source": [
        "X_train = X_train.reshape(X_train.shape[0],X_train.shape[1],1)\n",
        "X_test = X_test.reshape(X_test.shape[0],X_test.shape[1],1)"
      ]
    },
    {
      "cell_type": "markdown",
      "metadata": {
        "id": "BnhMYQQum_Z9"
      },
      "source": [
        "## Using LSTM"
      ]
    },
    {
      "cell_type": "code",
      "execution_count": 80,
      "metadata": {
        "id": "isI7D2age0gd"
      },
      "outputs": [],
      "source": [
        "from tensorflow.keras.models import Sequential\n",
        "from tensorflow.keras.layers import Dense\n",
        "from tensorflow.keras.layers import LSTM\n",
        "model = Sequential()\n",
        "model.add(LSTM(50,return_sequences= True,input_shape=(100,1)))\n",
        "model.add(LSTM(50,return_sequences = True))\n",
        "model.add(LSTM(50))\n",
        "model.add(Dense(1))\n",
        "model.compile(loss='mean_squared_error',optimizer='adam')"
      ]
    },
    {
      "cell_type": "code",
      "execution_count": 81,
      "metadata": {
        "colab": {
          "base_uri": "https://localhost:8080/"
        },
        "id": "-rEKtE60fnQa",
        "outputId": "cbea634f-a045-4c71-f67b-2ecc9840c439"
      },
      "outputs": [
        {
          "name": "stdout",
          "output_type": "stream",
          "text": [
            "Epoch 1/100\n",
            "7/7 [==============================] - 7s 257ms/step - loss: 0.1126 - val_loss: 0.0318\n",
            "Epoch 2/100\n",
            "7/7 [==============================] - 0s 34ms/step - loss: 0.0175 - val_loss: 0.0183\n",
            "Epoch 3/100\n",
            "7/7 [==============================] - 0s 31ms/step - loss: 0.0151 - val_loss: 0.0133\n",
            "Epoch 4/100\n",
            "7/7 [==============================] - 0s 30ms/step - loss: 0.0129 - val_loss: 0.0041\n",
            "Epoch 5/100\n",
            "7/7 [==============================] - 0s 29ms/step - loss: 0.0101 - val_loss: 0.0035\n",
            "Epoch 6/100\n",
            "7/7 [==============================] - 0s 29ms/step - loss: 0.0076 - val_loss: 0.0046\n",
            "Epoch 7/100\n",
            "7/7 [==============================] - 0s 32ms/step - loss: 0.0069 - val_loss: 0.0033\n",
            "Epoch 8/100\n",
            "7/7 [==============================] - 0s 32ms/step - loss: 0.0064 - val_loss: 0.0038\n",
            "Epoch 9/100\n",
            "7/7 [==============================] - 0s 25ms/step - loss: 0.0062 - val_loss: 0.0031\n",
            "Epoch 10/100\n",
            "7/7 [==============================] - 0s 22ms/step - loss: 0.0060 - val_loss: 0.0031\n",
            "Epoch 11/100\n",
            "7/7 [==============================] - 0s 20ms/step - loss: 0.0057 - val_loss: 0.0031\n",
            "Epoch 12/100\n",
            "7/7 [==============================] - 0s 19ms/step - loss: 0.0056 - val_loss: 0.0030\n",
            "Epoch 13/100\n",
            "7/7 [==============================] - 0s 20ms/step - loss: 0.0055 - val_loss: 0.0032\n",
            "Epoch 14/100\n",
            "7/7 [==============================] - 0s 20ms/step - loss: 0.0054 - val_loss: 0.0028\n",
            "Epoch 15/100\n",
            "7/7 [==============================] - 0s 20ms/step - loss: 0.0053 - val_loss: 0.0033\n",
            "Epoch 16/100\n",
            "7/7 [==============================] - 0s 20ms/step - loss: 0.0051 - val_loss: 0.0026\n",
            "Epoch 17/100\n",
            "7/7 [==============================] - 0s 20ms/step - loss: 0.0048 - val_loss: 0.0025\n",
            "Epoch 18/100\n",
            "7/7 [==============================] - 0s 20ms/step - loss: 0.0047 - val_loss: 0.0028\n",
            "Epoch 19/100\n",
            "7/7 [==============================] - 0s 22ms/step - loss: 0.0045 - val_loss: 0.0024\n",
            "Epoch 20/100\n",
            "7/7 [==============================] - 0s 22ms/step - loss: 0.0043 - val_loss: 0.0025\n",
            "Epoch 21/100\n",
            "7/7 [==============================] - 0s 21ms/step - loss: 0.0043 - val_loss: 0.0022\n",
            "Epoch 22/100\n",
            "7/7 [==============================] - 0s 20ms/step - loss: 0.0041 - val_loss: 0.0020\n",
            "Epoch 23/100\n",
            "7/7 [==============================] - 0s 21ms/step - loss: 0.0041 - val_loss: 0.0020\n",
            "Epoch 24/100\n",
            "7/7 [==============================] - 0s 20ms/step - loss: 0.0039 - val_loss: 0.0027\n",
            "Epoch 25/100\n",
            "7/7 [==============================] - 0s 20ms/step - loss: 0.0038 - val_loss: 0.0027\n",
            "Epoch 26/100\n",
            "7/7 [==============================] - 0s 20ms/step - loss: 0.0039 - val_loss: 0.0022\n",
            "Epoch 27/100\n",
            "7/7 [==============================] - 0s 20ms/step - loss: 0.0038 - val_loss: 0.0021\n",
            "Epoch 28/100\n",
            "7/7 [==============================] - 0s 21ms/step - loss: 0.0034 - val_loss: 0.0019\n",
            "Epoch 29/100\n",
            "7/7 [==============================] - 0s 20ms/step - loss: 0.0037 - val_loss: 0.0016\n",
            "Epoch 30/100\n",
            "7/7 [==============================] - 0s 23ms/step - loss: 0.0030 - val_loss: 0.0018\n",
            "Epoch 31/100\n",
            "7/7 [==============================] - 0s 19ms/step - loss: 0.0029 - val_loss: 0.0015\n",
            "Epoch 32/100\n",
            "7/7 [==============================] - 0s 19ms/step - loss: 0.0028 - val_loss: 0.0015\n",
            "Epoch 33/100\n",
            "7/7 [==============================] - 0s 20ms/step - loss: 0.0027 - val_loss: 0.0015\n",
            "Epoch 34/100\n",
            "7/7 [==============================] - 0s 29ms/step - loss: 0.0026 - val_loss: 0.0022\n",
            "Epoch 35/100\n",
            "7/7 [==============================] - 0s 43ms/step - loss: 0.0028 - val_loss: 0.0015\n",
            "Epoch 36/100\n",
            "7/7 [==============================] - 0s 34ms/step - loss: 0.0025 - val_loss: 0.0017\n",
            "Epoch 37/100\n",
            "7/7 [==============================] - 0s 37ms/step - loss: 0.0024 - val_loss: 0.0013\n",
            "Epoch 38/100\n",
            "7/7 [==============================] - 0s 36ms/step - loss: 0.0023 - val_loss: 0.0013\n",
            "Epoch 39/100\n",
            "7/7 [==============================] - 0s 26ms/step - loss: 0.0022 - val_loss: 0.0015\n",
            "Epoch 40/100\n",
            "7/7 [==============================] - 0s 20ms/step - loss: 0.0024 - val_loss: 0.0018\n",
            "Epoch 41/100\n",
            "7/7 [==============================] - 0s 20ms/step - loss: 0.0027 - val_loss: 0.0020\n",
            "Epoch 42/100\n",
            "7/7 [==============================] - 0s 22ms/step - loss: 0.0022 - val_loss: 0.0012\n",
            "Epoch 43/100\n",
            "7/7 [==============================] - 0s 21ms/step - loss: 0.0020 - val_loss: 0.0011\n",
            "Epoch 44/100\n",
            "7/7 [==============================] - 0s 21ms/step - loss: 0.0019 - val_loss: 0.0012\n",
            "Epoch 45/100\n",
            "7/7 [==============================] - 0s 29ms/step - loss: 0.0020 - val_loss: 0.0012\n",
            "Epoch 46/100\n",
            "7/7 [==============================] - 0s 21ms/step - loss: 0.0018 - val_loss: 0.0011\n",
            "Epoch 47/100\n",
            "7/7 [==============================] - 0s 20ms/step - loss: 0.0017 - val_loss: 0.0011\n",
            "Epoch 48/100\n",
            "7/7 [==============================] - 0s 20ms/step - loss: 0.0018 - val_loss: 0.0014\n",
            "Epoch 49/100\n",
            "7/7 [==============================] - 0s 20ms/step - loss: 0.0018 - val_loss: 0.0016\n",
            "Epoch 50/100\n",
            "7/7 [==============================] - 0s 21ms/step - loss: 0.0021 - val_loss: 0.0016\n",
            "Epoch 51/100\n",
            "7/7 [==============================] - 0s 21ms/step - loss: 0.0019 - val_loss: 0.0016\n",
            "Epoch 52/100\n",
            "7/7 [==============================] - 0s 22ms/step - loss: 0.0018 - val_loss: 0.0013\n",
            "Epoch 53/100\n",
            "7/7 [==============================] - 0s 21ms/step - loss: 0.0017 - val_loss: 9.9539e-04\n",
            "Epoch 54/100\n",
            "7/7 [==============================] - 0s 20ms/step - loss: 0.0015 - val_loss: 0.0011\n",
            "Epoch 55/100\n",
            "7/7 [==============================] - 0s 20ms/step - loss: 0.0014 - val_loss: 9.7236e-04\n",
            "Epoch 56/100\n",
            "7/7 [==============================] - 0s 20ms/step - loss: 0.0014 - val_loss: 9.6401e-04\n",
            "Epoch 57/100\n",
            "7/7 [==============================] - 0s 20ms/step - loss: 0.0015 - val_loss: 0.0010\n",
            "Epoch 58/100\n",
            "7/7 [==============================] - 0s 20ms/step - loss: 0.0014 - val_loss: 0.0010\n",
            "Epoch 59/100\n",
            "7/7 [==============================] - 0s 24ms/step - loss: 0.0014 - val_loss: 0.0012\n",
            "Epoch 60/100\n",
            "7/7 [==============================] - 0s 20ms/step - loss: 0.0016 - val_loss: 0.0013\n",
            "Epoch 61/100\n",
            "7/7 [==============================] - 0s 22ms/step - loss: 0.0015 - val_loss: 0.0012\n",
            "Epoch 62/100\n",
            "7/7 [==============================] - 0s 20ms/step - loss: 0.0015 - val_loss: 0.0011\n",
            "Epoch 63/100\n",
            "7/7 [==============================] - 0s 21ms/step - loss: 0.0014 - val_loss: 0.0011\n",
            "Epoch 64/100\n",
            "7/7 [==============================] - 0s 22ms/step - loss: 0.0013 - val_loss: 8.7552e-04\n",
            "Epoch 65/100\n",
            "7/7 [==============================] - 0s 21ms/step - loss: 0.0013 - val_loss: 9.9325e-04\n",
            "Epoch 66/100\n",
            "7/7 [==============================] - 0s 23ms/step - loss: 0.0012 - val_loss: 8.4352e-04\n",
            "Epoch 67/100\n",
            "7/7 [==============================] - 0s 20ms/step - loss: 0.0011 - val_loss: 9.3539e-04\n",
            "Epoch 68/100\n",
            "7/7 [==============================] - 0s 20ms/step - loss: 0.0011 - val_loss: 9.0436e-04\n",
            "Epoch 69/100\n",
            "7/7 [==============================] - 0s 22ms/step - loss: 0.0011 - val_loss: 8.3156e-04\n",
            "Epoch 70/100\n",
            "7/7 [==============================] - 0s 21ms/step - loss: 0.0011 - val_loss: 8.5033e-04\n",
            "Epoch 71/100\n",
            "7/7 [==============================] - 0s 24ms/step - loss: 0.0011 - val_loss: 8.4337e-04\n",
            "Epoch 72/100\n",
            "7/7 [==============================] - 0s 22ms/step - loss: 0.0011 - val_loss: 7.8779e-04\n",
            "Epoch 73/100\n",
            "7/7 [==============================] - 0s 26ms/step - loss: 0.0011 - val_loss: 8.1200e-04\n",
            "Epoch 74/100\n",
            "7/7 [==============================] - 0s 30ms/step - loss: 0.0011 - val_loss: 8.6206e-04\n",
            "Epoch 75/100\n",
            "7/7 [==============================] - 0s 30ms/step - loss: 0.0011 - val_loss: 8.1550e-04\n",
            "Epoch 76/100\n",
            "7/7 [==============================] - 0s 29ms/step - loss: 0.0012 - val_loss: 0.0013\n",
            "Epoch 77/100\n",
            "7/7 [==============================] - 0s 33ms/step - loss: 0.0011 - val_loss: 0.0013\n",
            "Epoch 78/100\n",
            "7/7 [==============================] - 0s 28ms/step - loss: 0.0011 - val_loss: 9.3133e-04\n",
            "Epoch 79/100\n",
            "7/7 [==============================] - 0s 32ms/step - loss: 0.0010 - val_loss: 7.2668e-04\n",
            "Epoch 80/100\n",
            "7/7 [==============================] - 0s 29ms/step - loss: 0.0010 - val_loss: 7.8887e-04\n",
            "Epoch 81/100\n",
            "7/7 [==============================] - 0s 36ms/step - loss: 0.0010 - val_loss: 7.0747e-04\n",
            "Epoch 82/100\n",
            "7/7 [==============================] - 0s 29ms/step - loss: 9.5449e-04 - val_loss: 7.0572e-04\n",
            "Epoch 83/100\n",
            "7/7 [==============================] - 0s 29ms/step - loss: 9.8976e-04 - val_loss: 7.4574e-04\n",
            "Epoch 84/100\n",
            "7/7 [==============================] - 0s 30ms/step - loss: 9.6145e-04 - val_loss: 6.8256e-04\n",
            "Epoch 85/100\n",
            "7/7 [==============================] - 0s 31ms/step - loss: 9.0088e-04 - val_loss: 7.2108e-04\n",
            "Epoch 86/100\n",
            "7/7 [==============================] - 0s 31ms/step - loss: 8.8310e-04 - val_loss: 6.8477e-04\n",
            "Epoch 87/100\n",
            "7/7 [==============================] - 0s 29ms/step - loss: 9.0090e-04 - val_loss: 7.8646e-04\n",
            "Epoch 88/100\n",
            "7/7 [==============================] - 0s 35ms/step - loss: 9.0755e-04 - val_loss: 7.9815e-04\n",
            "Epoch 89/100\n",
            "7/7 [==============================] - 0s 30ms/step - loss: 0.0010 - val_loss: 8.5001e-04\n",
            "Epoch 90/100\n",
            "7/7 [==============================] - 0s 38ms/step - loss: 0.0010 - val_loss: 0.0011\n",
            "Epoch 91/100\n",
            "7/7 [==============================] - 0s 22ms/step - loss: 0.0011 - val_loss: 0.0015\n",
            "Epoch 92/100\n",
            "7/7 [==============================] - 0s 24ms/step - loss: 0.0013 - val_loss: 6.4392e-04\n",
            "Epoch 93/100\n",
            "7/7 [==============================] - 0s 30ms/step - loss: 0.0010 - val_loss: 6.2237e-04\n",
            "Epoch 94/100\n",
            "7/7 [==============================] - 0s 22ms/step - loss: 9.0549e-04 - val_loss: 6.3601e-04\n",
            "Epoch 95/100\n",
            "7/7 [==============================] - 0s 22ms/step - loss: 9.0265e-04 - val_loss: 6.9365e-04\n",
            "Epoch 96/100\n",
            "7/7 [==============================] - 0s 23ms/step - loss: 9.4159e-04 - val_loss: 7.9401e-04\n",
            "Epoch 97/100\n",
            "7/7 [==============================] - 0s 22ms/step - loss: 8.4861e-04 - val_loss: 7.7646e-04\n",
            "Epoch 98/100\n",
            "7/7 [==============================] - 0s 21ms/step - loss: 8.2338e-04 - val_loss: 6.6827e-04\n",
            "Epoch 99/100\n",
            "7/7 [==============================] - 0s 21ms/step - loss: 8.3845e-04 - val_loss: 5.8321e-04\n",
            "Epoch 100/100\n",
            "7/7 [==============================] - 0s 20ms/step - loss: 7.9911e-04 - val_loss: 5.7709e-04\n"
          ]
        },
        {
          "data": {
            "text/plain": [
              "<keras.callbacks.History at 0x7f3bdcb0c4f0>"
            ]
          },
          "execution_count": 81,
          "metadata": {},
          "output_type": "execute_result"
        }
      ],
      "source": [
        "model.fit(X_train,Y_train,validation_data=(X_test,Y_test),epochs=100,batch_size=64,verbose=1)"
      ]
    },
    {
      "cell_type": "code",
      "execution_count": 82,
      "metadata": {
        "colab": {
          "base_uri": "https://localhost:8080/"
        },
        "id": "Tq0-prdFf3LP",
        "outputId": "e55059a2-2c61-4162-a2ab-d88d3c844a42"
      },
      "outputs": [
        {
          "name": "stdout",
          "output_type": "stream",
          "text": [
            "14/14 [==============================] - 1s 9ms/step\n",
            "6/6 [==============================] - 0s 8ms/step\n"
          ]
        }
      ],
      "source": [
        "train_predict = model.predict(X_train)\n",
        "test_predict = model.predict(X_test)"
      ]
    },
    {
      "cell_type": "code",
      "execution_count": 83,
      "metadata": {
        "id": "diE08ZY0gUEh"
      },
      "outputs": [],
      "source": [
        "train_predict = scaler.inverse_transform(train_predict)\n",
        "test_predict = scaler.inverse_transform(test_predict)"
      ]
    },
    {
      "cell_type": "code",
      "execution_count": 84,
      "metadata": {
        "colab": {
          "base_uri": "https://localhost:8080/",
          "height": 265
        },
        "id": "BjheWoYpgqDf",
        "outputId": "13fa18a8-10c1-4b26-824e-3bf757c4b9ec"
      },
      "outputs": [
        {
          "data": {
            "image/png": "[encoded data removed]",
            "text/plain": [
              "<Figure size 432x288 with 1 Axes>"
            ]
          },
          "metadata": {
            "needs_background": "light"
          },
          "output_type": "display_data"
        }
      ],
      "source": [
        "#Plotting\n",
        "# Shift train predictions for plotting\n",
        "look_back = 100\n",
        "trainPredictPlot = np.empty_like(df1)\n",
        "trainPredictPlot[:,:] = np.nan\n",
        "trainPredictPlot[look_back:len(train_predict)+look_back,:] = train_predict\n",
        "# Shift test predictions for plotting\n",
        "testPredictPlot = np.empty_like(df1)\n",
        "testPredictPlot[:,:] = np.nan\n",
        "testPredictPlot[len(train_predict)+(look_back*2)+1:len(df1)-1,:] = test_predict\n",
        "# plot baseline and predictions\n",
        "plt.plot(scaler.inverse_transform(df1))\n",
        "plt.plot(trainPredictPlot)\n",
        "plt.plot(testPredictPlot)\n",
        "plt.show()"
      ]
    },
    {
      "cell_type": "markdown",
      "metadata": {
        "id": "11GPTWLwl4Pq"
      },
      "source": [
        "Orange part = > Train data \n",
        "\n",
        "greeen part = > Test data"
      ]
    },
    {
      "cell_type": "markdown",
      "metadata": {
        "id": "h0LBPWoWHzNe"
      },
      "source": [
        "Predicting petrol prices for next 30 weeks"
      ]
    },
    {
      "cell_type": "code",
      "execution_count": 85,
      "metadata": {
        "colab": {
          "base_uri": "https://localhost:8080/"
        },
        "id": "zS25r-DSHwij",
        "outputId": "c7f2df90-6028-44f6-e68f-e8d99f8c5d7d"
      },
      "outputs": [
        {
          "data": {
            "text/plain": [
              "284"
            ]
          },
          "execution_count": 85,
          "metadata": {},
          "output_type": "execute_result"
        }
      ],
      "source": [
        "len(test_data)"
      ]
    },
    {
      "cell_type": "code",
      "execution_count": 86,
      "metadata": {
        "colab": {
          "base_uri": "https://localhost:8080/"
        },
        "id": "B1MKkHChIRlf",
        "outputId": "810f0b97-ff00-447b-8cb4-b0d7f1d13b46"
      },
      "outputs": [
        {
          "data": {
            "text/plain": [
              "(1, 100)"
            ]
          },
          "execution_count": 86,
          "metadata": {},
          "output_type": "execute_result"
        }
      ],
      "source": [
        "x_input = test_data[184:].reshape(1,-1)\n",
        "x_input.shape"
      ]
    },
    {
      "cell_type": "code",
      "execution_count": 87,
      "metadata": {
        "id": "guxyDWZdIfUO"
      },
      "outputs": [],
      "source": [
        "temp_input = list(x_input)\n",
        "temp_input = temp_input[0].tolist()"
      ]
    },
    {
      "cell_type": "code",
      "execution_count": 88,
      "metadata": {
        "colab": {
          "base_uri": "https://localhost:8080/"
        },
        "id": "kWqRd8eEJR0c",
        "outputId": "ff4b86de-63a0-4091-9c32-83cec488bf4e"
      },
      "outputs": [
        {
          "name": "stdout",
          "output_type": "stream",
          "text": [
            "[0.6644069]\n",
            "101\n",
            "1 day input [0.67598587 0.6767216  0.67554444 0.67407298 0.67083579 0.65832843\n",
            " 0.64479105 0.62860506 0.62992937 0.63758093 0.6465568  0.64552678\n",
            " 0.63051795 0.60903473 0.61006474 0.61183049 0.61227192 0.61035903\n",
            " 0.60197175 0.59181872 0.58166569 0.57931136 0.58387287 0.58534432\n",
            " 0.58784579 0.59696881 0.60800471 0.61550912 0.62080636 0.62889935\n",
            " 0.64640965 0.65685697 0.65715127 0.64626251 0.63198941 0.62978222\n",
            " 0.63022366 0.63051795 0.63802237 0.65773985 0.6689229  0.67569158\n",
            " 0.67010006 0.67245438 0.6734844  0.67377869 0.67657446 0.68143025\n",
            " 0.68790465 0.6958505  0.69864626 0.69923484 0.69702766 0.68143025\n",
            " 0.66715715 0.66333137 0.66068275 0.66156563 0.6624485  0.66539141\n",
            " 0.67319011 0.68201883 0.69496763 0.70644497 0.72189523 0.7373455\n",
            " 0.7610359  0.78531489 0.79782225 0.80047087 0.79031783 0.77942908\n",
            " 0.77001177 0.77633902 0.78369629 0.78413773 0.78472631 0.79178929\n",
            " 0.79723367 0.80311948 0.80885815 0.81739258 0.82445556 0.82960565\n",
            " 0.82960565 0.82062978 0.82313125 0.83284285 0.83534432 0.83034138\n",
            " 0.82254267 0.80532666 0.78266627 0.75868158 0.73705121 0.70865215\n",
            " 0.68878752 0.68275456 0.67642731 0.6644069 ]\n",
            "1 day output [[0.65434134]]\n",
            "2 day input [0.6767216  0.67554444 0.67407298 0.67083579 0.65832843 0.64479105\n",
            " 0.62860506 0.62992937 0.63758093 0.6465568  0.64552678 0.63051795\n",
            " 0.60903473 0.61006474 0.61183049 0.61227192 0.61035903 0.60197175\n",
            " 0.59181872 0.58166569 0.57931136 0.58387287 0.58534432 0.58784579\n",
            " 0.59696881 0.60800471 0.61550912 0.62080636 0.62889935 0.64640965\n",
            " 0.65685697 0.65715127 0.64626251 0.63198941 0.62978222 0.63022366\n",
            " 0.63051795 0.63802237 0.65773985 0.6689229  0.67569158 0.67010006\n",
            " 0.67245438 0.6734844  0.67377869 0.67657446 0.68143025 0.68790465\n",
            " 0.6958505  0.69864626 0.69923484 0.69702766 0.68143025 0.66715715\n",
            " 0.66333137 0.66068275 0.66156563 0.6624485  0.66539141 0.67319011\n",
            " 0.68201883 0.69496763 0.70644497 0.72189523 0.7373455  0.7610359\n",
            " 0.78531489 0.79782225 0.80047087 0.79031783 0.77942908 0.77001177\n",
            " 0.77633902 0.78369629 0.78413773 0.78472631 0.79178929 0.79723367\n",
            " 0.80311948 0.80885815 0.81739258 0.82445556 0.82960565 0.82960565\n",
            " 0.82062978 0.82313125 0.83284285 0.83534432 0.83034138 0.82254267\n",
            " 0.80532666 0.78266627 0.75868158 0.73705121 0.70865215 0.68878752\n",
            " 0.68275456 0.67642731 0.6644069  0.65434134]\n",
            "2 day output [[0.6486595]]\n",
            "3 day input [0.67554444 0.67407298 0.67083579 0.65832843 0.64479105 0.62860506\n",
            " 0.62992937 0.63758093 0.6465568  0.64552678 0.63051795 0.60903473\n",
            " 0.61006474 0.61183049 0.61227192 0.61035903 0.60197175 0.59181872\n",
            " 0.58166569 0.57931136 0.58387287 0.58534432 0.58784579 0.59696881\n",
            " 0.60800471 0.61550912 0.62080636 0.62889935 0.64640965 0.65685697\n",
            " 0.65715127 0.64626251 0.63198941 0.62978222 0.63022366 0.63051795\n",
            " 0.63802237 0.65773985 0.6689229  0.67569158 0.67010006 0.67245438\n",
            " 0.6734844  0.67377869 0.67657446 0.68143025 0.68790465 0.6958505\n",
            " 0.69864626 0.69923484 0.69702766 0.68143025 0.66715715 0.66333137\n",
            " 0.66068275 0.66156563 0.6624485  0.66539141 0.67319011 0.68201883\n",
            " 0.69496763 0.70644497 0.72189523 0.7373455  0.7610359  0.78531489\n",
            " 0.79782225 0.80047087 0.79031783 0.77942908 0.77001177 0.77633902\n",
            " 0.78369629 0.78413773 0.78472631 0.79178929 0.79723367 0.80311948\n",
            " 0.80885815 0.81739258 0.82445556 0.82960565 0.82960565 0.82062978\n",
            " 0.82313125 0.83284285 0.83534432 0.83034138 0.82254267 0.80532666\n",
            " 0.78266627 0.75868158 0.73705121 0.70865215 0.68878752 0.68275456\n",
            " 0.67642731 0.6644069  0.65434134 0.64865953]\n",
            "3 day output [[0.6459085]]\n",
            "4 day input [0.67407298 0.67083579 0.65832843 0.64479105 0.62860506 0.62992937\n",
            " 0.63758093 0.6465568  0.64552678 0.63051795 0.60903473 0.61006474\n",
            " 0.61183049 0.61227192 0.61035903 0.60197175 0.59181872 0.58166569\n",
            " 0.57931136 0.58387287 0.58534432 0.58784579 0.59696881 0.60800471\n",
            " 0.61550912 0.62080636 0.62889935 0.64640965 0.65685697 0.65715127\n",
            " 0.64626251 0.63198941 0.62978222 0.63022366 0.63051795 0.63802237\n",
            " 0.65773985 0.6689229  0.67569158 0.67010006 0.67245438 0.6734844\n",
            " 0.67377869 0.67657446 0.68143025 0.68790465 0.6958505  0.69864626\n",
            " 0.69923484 0.69702766 0.68143025 0.66715715 0.66333137 0.66068275\n",
            " 0.66156563 0.6624485  0.66539141 0.67319011 0.68201883 0.69496763\n",
            " 0.70644497 0.72189523 0.7373455  0.7610359  0.78531489 0.79782225\n",
            " 0.80047087 0.79031783 0.77942908 0.77001177 0.77633902 0.78369629\n",
            " 0.78413773 0.78472631 0.79178929 0.79723367 0.80311948 0.80885815\n",
            " 0.81739258 0.82445556 0.82960565 0.82960565 0.82062978 0.82313125\n",
            " 0.83284285 0.83534432 0.83034138 0.82254267 0.80532666 0.78266627\n",
            " 0.75868158 0.73705121 0.70865215 0.68878752 0.68275456 0.67642731\n",
            " 0.6644069  0.65434134 0.64865953 0.64590847]\n",
            "4 day output [[0.6452281]]\n",
            "5 day input [0.67083579 0.65832843 0.64479105 0.62860506 0.62992937 0.63758093\n",
            " 0.6465568  0.64552678 0.63051795 0.60903473 0.61006474 0.61183049\n",
            " 0.61227192 0.61035903 0.60197175 0.59181872 0.58166569 0.57931136\n",
            " 0.58387287 0.58534432 0.58784579 0.59696881 0.60800471 0.61550912\n",
            " 0.62080636 0.62889935 0.64640965 0.65685697 0.65715127 0.64626251\n",
            " 0.63198941 0.62978222 0.63022366 0.63051795 0.63802237 0.65773985\n",
            " 0.6689229  0.67569158 0.67010006 0.67245438 0.6734844  0.67377869\n",
            " 0.67657446 0.68143025 0.68790465 0.6958505  0.69864626 0.69923484\n",
            " 0.69702766 0.68143025 0.66715715 0.66333137 0.66068275 0.66156563\n",
            " 0.6624485  0.66539141 0.67319011 0.68201883 0.69496763 0.70644497\n",
            " 0.72189523 0.7373455  0.7610359  0.78531489 0.79782225 0.80047087\n",
            " 0.79031783 0.77942908 0.77001177 0.77633902 0.78369629 0.78413773\n",
            " 0.78472631 0.79178929 0.79723367 0.80311948 0.80885815 0.81739258\n",
            " 0.82445556 0.82960565 0.82960565 0.82062978 0.82313125 0.83284285\n",
            " 0.83534432 0.83034138 0.82254267 0.80532666 0.78266627 0.75868158\n",
            " 0.73705121 0.70865215 0.68878752 0.68275456 0.67642731 0.6644069\n",
            " 0.65434134 0.64865953 0.64590847 0.64522809]\n",
            "5 day output [[0.64614815]]\n",
            "6 day input [0.65832843 0.64479105 0.62860506 0.62992937 0.63758093 0.6465568\n",
            " 0.64552678 0.63051795 0.60903473 0.61006474 0.61183049 0.61227192\n",
            " 0.61035903 0.60197175 0.59181872 0.58166569 0.57931136 0.58387287\n",
            " 0.58534432 0.58784579 0.59696881 0.60800471 0.61550912 0.62080636\n",
            " 0.62889935 0.64640965 0.65685697 0.65715127 0.64626251 0.63198941\n",
            " 0.62978222 0.63022366 0.63051795 0.63802237 0.65773985 0.6689229\n",
            " 0.67569158 0.67010006 0.67245438 0.6734844  0.67377869 0.67657446\n",
            " 0.68143025 0.68790465 0.6958505  0.69864626 0.69923484 0.69702766\n",
            " 0.68143025 0.66715715 0.66333137 0.66068275 0.66156563 0.6624485\n",
            " 0.66539141 0.67319011 0.68201883 0.69496763 0.70644497 0.72189523\n",
            " 0.7373455  0.7610359  0.78531489 0.79782225 0.80047087 0.79031783\n",
            " 0.77942908 0.77001177 0.77633902 0.78369629 0.78413773 0.78472631\n",
            " 0.79178929 0.79723367 0.80311948 0.80885815 0.81739258 0.82445556\n",
            " 0.82960565 0.82960565 0.82062978 0.82313125 0.83284285 0.83534432\n",
            " 0.83034138 0.82254267 0.80532666 0.78266627 0.75868158 0.73705121\n",
            " 0.70865215 0.68878752 0.68275456 0.67642731 0.6644069  0.65434134\n",
            " 0.64865953 0.64590847 0.64522809 0.64614815]\n",
            "6 day output [[0.6483844]]\n",
            "7 day input [0.64479105 0.62860506 0.62992937 0.63758093 0.6465568  0.64552678\n",
            " 0.63051795 0.60903473 0.61006474 0.61183049 0.61227192 0.61035903\n",
            " 0.60197175 0.59181872 0.58166569 0.57931136 0.58387287 0.58534432\n",
            " 0.58784579 0.59696881 0.60800471 0.61550912 0.62080636 0.62889935\n",
            " 0.64640965 0.65685697 0.65715127 0.64626251 0.63198941 0.62978222\n",
            " 0.63022366 0.63051795 0.63802237 0.65773985 0.6689229  0.67569158\n",
            " 0.67010006 0.67245438 0.6734844  0.67377869 0.67657446 0.68143025\n",
            " 0.68790465 0.6958505  0.69864626 0.69923484 0.69702766 0.68143025\n",
            " 0.66715715 0.66333137 0.66068275 0.66156563 0.6624485  0.66539141\n",
            " 0.67319011 0.68201883 0.69496763 0.70644497 0.72189523 0.7373455\n",
            " 0.7610359  0.78531489 0.79782225 0.80047087 0.79031783 0.77942908\n",
            " 0.77001177 0.77633902 0.78369629 0.78413773 0.78472631 0.79178929\n",
            " 0.79723367 0.80311948 0.80885815 0.81739258 0.82445556 0.82960565\n",
            " 0.82960565 0.82062978 0.82313125 0.83284285 0.83534432 0.83034138\n",
            " 0.82254267 0.80532666 0.78266627 0.75868158 0.73705121 0.70865215\n",
            " 0.68878752 0.68275456 0.67642731 0.6644069  0.65434134 0.64865953\n",
            " 0.64590847 0.64522809 0.64614815 0.64838439]\n",
            "7 day output [[0.6517154]]\n",
            "8 day input [0.62860506 0.62992937 0.63758093 0.6465568  0.64552678 0.63051795\n",
            " 0.60903473 0.61006474 0.61183049 0.61227192 0.61035903 0.60197175\n",
            " 0.59181872 0.58166569 0.57931136 0.58387287 0.58534432 0.58784579\n",
            " 0.59696881 0.60800471 0.61550912 0.62080636 0.62889935 0.64640965\n",
            " 0.65685697 0.65715127 0.64626251 0.63198941 0.62978222 0.63022366\n",
            " 0.63051795 0.63802237 0.65773985 0.6689229  0.67569158 0.67010006\n",
            " 0.67245438 0.6734844  0.67377869 0.67657446 0.68143025 0.68790465\n",
            " 0.6958505  0.69864626 0.69923484 0.69702766 0.68143025 0.66715715\n",
            " 0.66333137 0.66068275 0.66156563 0.6624485  0.66539141 0.67319011\n",
            " 0.68201883 0.69496763 0.70644497 0.72189523 0.7373455  0.7610359\n",
            " 0.78531489 0.79782225 0.80047087 0.79031783 0.77942908 0.77001177\n",
            " 0.77633902 0.78369629 0.78413773 0.78472631 0.79178929 0.79723367\n",
            " 0.80311948 0.80885815 0.81739258 0.82445556 0.82960565 0.82960565\n",
            " 0.82062978 0.82313125 0.83284285 0.83534432 0.83034138 0.82254267\n",
            " 0.80532666 0.78266627 0.75868158 0.73705121 0.70865215 0.68878752\n",
            " 0.68275456 0.67642731 0.6644069  0.65434134 0.64865953 0.64590847\n",
            " 0.64522809 0.64614815 0.64838439 0.6517154 ]\n",
            "8 day output [[0.65593016]]\n",
            "9 day input [0.62992937 0.63758093 0.6465568  0.64552678 0.63051795 0.60903473\n",
            " 0.61006474 0.61183049 0.61227192 0.61035903 0.60197175 0.59181872\n",
            " 0.58166569 0.57931136 0.58387287 0.58534432 0.58784579 0.59696881\n",
            " 0.60800471 0.61550912 0.62080636 0.62889935 0.64640965 0.65685697\n",
            " 0.65715127 0.64626251 0.63198941 0.62978222 0.63022366 0.63051795\n",
            " 0.63802237 0.65773985 0.6689229  0.67569158 0.67010006 0.67245438\n",
            " 0.6734844  0.67377869 0.67657446 0.68143025 0.68790465 0.6958505\n",
            " 0.69864626 0.69923484 0.69702766 0.68143025 0.66715715 0.66333137\n",
            " 0.66068275 0.66156563 0.6624485  0.66539141 0.67319011 0.68201883\n",
            " 0.69496763 0.70644497 0.72189523 0.7373455  0.7610359  0.78531489\n",
            " 0.79782225 0.80047087 0.79031783 0.77942908 0.77001177 0.77633902\n",
            " 0.78369629 0.78413773 0.78472631 0.79178929 0.79723367 0.80311948\n",
            " 0.80885815 0.81739258 0.82445556 0.82960565 0.82960565 0.82062978\n",
            " 0.82313125 0.83284285 0.83534432 0.83034138 0.82254267 0.80532666\n",
            " 0.78266627 0.75868158 0.73705121 0.70865215 0.68878752 0.68275456\n",
            " 0.67642731 0.6644069  0.65434134 0.64865953 0.64590847 0.64522809\n",
            " 0.64614815 0.64838439 0.6517154  0.65593016]\n",
            "9 day output [[0.6608146]]\n",
            "10 day input [0.63758093 0.6465568  0.64552678 0.63051795 0.60903473 0.61006474\n",
            " 0.61183049 0.61227192 0.61035903 0.60197175 0.59181872 0.58166569\n",
            " 0.57931136 0.58387287 0.58534432 0.58784579 0.59696881 0.60800471\n",
            " 0.61550912 0.62080636 0.62889935 0.64640965 0.65685697 0.65715127\n",
            " 0.64626251 0.63198941 0.62978222 0.63022366 0.63051795 0.63802237\n",
            " 0.65773985 0.6689229  0.67569158 0.67010006 0.67245438 0.6734844\n",
            " 0.67377869 0.67657446 0.68143025 0.68790465 0.6958505  0.69864626\n",
            " 0.69923484 0.69702766 0.68143025 0.66715715 0.66333137 0.66068275\n",
            " 0.66156563 0.6624485  0.66539141 0.67319011 0.68201883 0.69496763\n",
            " 0.70644497 0.72189523 0.7373455  0.7610359  0.78531489 0.79782225\n",
            " 0.80047087 0.79031783 0.77942908 0.77001177 0.77633902 0.78369629\n",
            " 0.78413773 0.78472631 0.79178929 0.79723367 0.80311948 0.80885815\n",
            " 0.81739258 0.82445556 0.82960565 0.82960565 0.82062978 0.82313125\n",
            " 0.83284285 0.83534432 0.83034138 0.82254267 0.80532666 0.78266627\n",
            " 0.75868158 0.73705121 0.70865215 0.68878752 0.68275456 0.67642731\n",
            " 0.6644069  0.65434134 0.64865953 0.64590847 0.64522809 0.64614815\n",
            " 0.64838439 0.6517154  0.65593016 0.66081458]\n",
            "10 day output [[0.6661561]]\n",
            "11 day input [0.6465568  0.64552678 0.63051795 0.60903473 0.61006474 0.61183049\n",
            " 0.61227192 0.61035903 0.60197175 0.59181872 0.58166569 0.57931136\n",
            " 0.58387287 0.58534432 0.58784579 0.59696881 0.60800471 0.61550912\n",
            " 0.62080636 0.62889935 0.64640965 0.65685697 0.65715127 0.64626251\n",
            " 0.63198941 0.62978222 0.63022366 0.63051795 0.63802237 0.65773985\n",
            " 0.6689229  0.67569158 0.67010006 0.67245438 0.6734844  0.67377869\n",
            " 0.67657446 0.68143025 0.68790465 0.6958505  0.69864626 0.69923484\n",
            " 0.69702766 0.68143025 0.66715715 0.66333137 0.66068275 0.66156563\n",
            " 0.6624485  0.66539141 0.67319011 0.68201883 0.69496763 0.70644497\n",
            " 0.72189523 0.7373455  0.7610359  0.78531489 0.79782225 0.80047087\n",
            " 0.79031783 0.77942908 0.77001177 0.77633902 0.78369629 0.78413773\n",
            " 0.78472631 0.79178929 0.79723367 0.80311948 0.80885815 0.81739258\n",
            " 0.82445556 0.82960565 0.82960565 0.82062978 0.82313125 0.83284285\n",
            " 0.83534432 0.83034138 0.82254267 0.80532666 0.78266627 0.75868158\n",
            " 0.73705121 0.70865215 0.68878752 0.68275456 0.67642731 0.6644069\n",
            " 0.65434134 0.64865953 0.64590847 0.64522809 0.64614815 0.64838439\n",
            " 0.6517154  0.65593016 0.66081458 0.66615611]\n",
            "11 day output [[0.67175096]]\n",
            "12 day input [0.64552678 0.63051795 0.60903473 0.61006474 0.61183049 0.61227192\n",
            " 0.61035903 0.60197175 0.59181872 0.58166569 0.57931136 0.58387287\n",
            " 0.58534432 0.58784579 0.59696881 0.60800471 0.61550912 0.62080636\n",
            " 0.62889935 0.64640965 0.65685697 0.65715127 0.64626251 0.63198941\n",
            " 0.62978222 0.63022366 0.63051795 0.63802237 0.65773985 0.6689229\n",
            " 0.67569158 0.67010006 0.67245438 0.6734844  0.67377869 0.67657446\n",
            " 0.68143025 0.68790465 0.6958505  0.69864626 0.69923484 0.69702766\n",
            " 0.68143025 0.66715715 0.66333137 0.66068275 0.66156563 0.6624485\n",
            " 0.66539141 0.67319011 0.68201883 0.69496763 0.70644497 0.72189523\n",
            " 0.7373455  0.7610359  0.78531489 0.79782225 0.80047087 0.79031783\n",
            " 0.77942908 0.77001177 0.77633902 0.78369629 0.78413773 0.78472631\n",
            " 0.79178929 0.79723367 0.80311948 0.80885815 0.81739258 0.82445556\n",
            " 0.82960565 0.82960565 0.82062978 0.82313125 0.83284285 0.83534432\n",
            " 0.83034138 0.82254267 0.80532666 0.78266627 0.75868158 0.73705121\n",
            " 0.70865215 0.68878752 0.68275456 0.67642731 0.6644069  0.65434134\n",
            " 0.64865953 0.64590847 0.64522809 0.64614815 0.64838439 0.6517154\n",
            " 0.65593016 0.66081458 0.66615611 0.67175096]\n",
            "12 day output [[0.6774109]]\n",
            "13 day input [0.63051795 0.60903473 0.61006474 0.61183049 0.61227192 0.61035903\n",
            " 0.60197175 0.59181872 0.58166569 0.57931136 0.58387287 0.58534432\n",
            " 0.58784579 0.59696881 0.60800471 0.61550912 0.62080636 0.62889935\n",
            " 0.64640965 0.65685697 0.65715127 0.64626251 0.63198941 0.62978222\n",
            " 0.63022366 0.63051795 0.63802237 0.65773985 0.6689229  0.67569158\n",
            " 0.67010006 0.67245438 0.6734844  0.67377869 0.67657446 0.68143025\n",
            " 0.68790465 0.6958505  0.69864626 0.69923484 0.69702766 0.68143025\n",
            " 0.66715715 0.66333137 0.66068275 0.66156563 0.6624485  0.66539141\n",
            " 0.67319011 0.68201883 0.69496763 0.70644497 0.72189523 0.7373455\n",
            " 0.7610359  0.78531489 0.79782225 0.80047087 0.79031783 0.77942908\n",
            " 0.77001177 0.77633902 0.78369629 0.78413773 0.78472631 0.79178929\n",
            " 0.79723367 0.80311948 0.80885815 0.81739258 0.82445556 0.82960565\n",
            " 0.82960565 0.82062978 0.82313125 0.83284285 0.83534432 0.83034138\n",
            " 0.82254267 0.80532666 0.78266627 0.75868158 0.73705121 0.70865215\n",
            " 0.68878752 0.68275456 0.67642731 0.6644069  0.65434134 0.64865953\n",
            " 0.64590847 0.64522809 0.64614815 0.64838439 0.6517154  0.65593016\n",
            " 0.66081458 0.66615611 0.67175096 0.6774109 ]\n",
            "13 day output [[0.6829675]]\n",
            "14 day input [0.60903473 0.61006474 0.61183049 0.61227192 0.61035903 0.60197175\n",
            " 0.59181872 0.58166569 0.57931136 0.58387287 0.58534432 0.58784579\n",
            " 0.59696881 0.60800471 0.61550912 0.62080636 0.62889935 0.64640965\n",
            " 0.65685697 0.65715127 0.64626251 0.63198941 0.62978222 0.63022366\n",
            " 0.63051795 0.63802237 0.65773985 0.6689229  0.67569158 0.67010006\n",
            " 0.67245438 0.6734844  0.67377869 0.67657446 0.68143025 0.68790465\n",
            " 0.6958505  0.69864626 0.69923484 0.69702766 0.68143025 0.66715715\n",
            " 0.66333137 0.66068275 0.66156563 0.6624485  0.66539141 0.67319011\n",
            " 0.68201883 0.69496763 0.70644497 0.72189523 0.7373455  0.7610359\n",
            " 0.78531489 0.79782225 0.80047087 0.79031783 0.77942908 0.77001177\n",
            " 0.77633902 0.78369629 0.78413773 0.78472631 0.79178929 0.79723367\n",
            " 0.80311948 0.80885815 0.81739258 0.82445556 0.82960565 0.82960565\n",
            " 0.82062978 0.82313125 0.83284285 0.83534432 0.83034138 0.82254267\n",
            " 0.80532666 0.78266627 0.75868158 0.73705121 0.70865215 0.68878752\n",
            " 0.68275456 0.67642731 0.6644069  0.65434134 0.64865953 0.64590847\n",
            " 0.64522809 0.64614815 0.64838439 0.6517154  0.65593016 0.66081458\n",
            " 0.66615611 0.67175096 0.6774109  0.68296748]\n",
            "14 day output [[0.6882743]]\n",
            "15 day input [0.61006474 0.61183049 0.61227192 0.61035903 0.60197175 0.59181872\n",
            " 0.58166569 0.57931136 0.58387287 0.58534432 0.58784579 0.59696881\n",
            " 0.60800471 0.61550912 0.62080636 0.62889935 0.64640965 0.65685697\n",
            " 0.65715127 0.64626251 0.63198941 0.62978222 0.63022366 0.63051795\n",
            " 0.63802237 0.65773985 0.6689229  0.67569158 0.67010006 0.67245438\n",
            " 0.6734844  0.67377869 0.67657446 0.68143025 0.68790465 0.6958505\n",
            " 0.69864626 0.69923484 0.69702766 0.68143025 0.66715715 0.66333137\n",
            " 0.66068275 0.66156563 0.6624485  0.66539141 0.67319011 0.68201883\n",
            " 0.69496763 0.70644497 0.72189523 0.7373455  0.7610359  0.78531489\n",
            " 0.79782225 0.80047087 0.79031783 0.77942908 0.77001177 0.77633902\n",
            " 0.78369629 0.78413773 0.78472631 0.79178929 0.79723367 0.80311948\n",
            " 0.80885815 0.81739258 0.82445556 0.82960565 0.82960565 0.82062978\n",
            " 0.82313125 0.83284285 0.83534432 0.83034138 0.82254267 0.80532666\n",
            " 0.78266627 0.75868158 0.73705121 0.70865215 0.68878752 0.68275456\n",
            " 0.67642731 0.6644069  0.65434134 0.64865953 0.64590847 0.64522809\n",
            " 0.64614815 0.64838439 0.6517154  0.65593016 0.66081458 0.66615611\n",
            " 0.67175096 0.6774109  0.68296748 0.68827432]\n",
            "15 day output [[0.6932082]]\n",
            "16 day input [0.61183049 0.61227192 0.61035903 0.60197175 0.59181872 0.58166569\n",
            " 0.57931136 0.58387287 0.58534432 0.58784579 0.59696881 0.60800471\n",
            " 0.61550912 0.62080636 0.62889935 0.64640965 0.65685697 0.65715127\n",
            " 0.64626251 0.63198941 0.62978222 0.63022366 0.63051795 0.63802237\n",
            " 0.65773985 0.6689229  0.67569158 0.67010006 0.67245438 0.6734844\n",
            " 0.67377869 0.67657446 0.68143025 0.68790465 0.6958505  0.69864626\n",
            " 0.69923484 0.69702766 0.68143025 0.66715715 0.66333137 0.66068275\n",
            " 0.66156563 0.6624485  0.66539141 0.67319011 0.68201883 0.69496763\n",
            " 0.70644497 0.72189523 0.7373455  0.7610359  0.78531489 0.79782225\n",
            " 0.80047087 0.79031783 0.77942908 0.77001177 0.77633902 0.78369629\n",
            " 0.78413773 0.78472631 0.79178929 0.79723367 0.80311948 0.80885815\n",
            " 0.81739258 0.82445556 0.82960565 0.82960565 0.82062978 0.82313125\n",
            " 0.83284285 0.83534432 0.83034138 0.82254267 0.80532666 0.78266627\n",
            " 0.75868158 0.73705121 0.70865215 0.68878752 0.68275456 0.67642731\n",
            " 0.6644069  0.65434134 0.64865953 0.64590847 0.64522809 0.64614815\n",
            " 0.64838439 0.6517154  0.65593016 0.66081458 0.66615611 0.67175096\n",
            " 0.6774109  0.68296748 0.68827432 0.69320822]\n",
            "16 day output [[0.69767016]]\n",
            "17 day input [0.61227192 0.61035903 0.60197175 0.59181872 0.58166569 0.57931136\n",
            " 0.58387287 0.58534432 0.58784579 0.59696881 0.60800471 0.61550912\n",
            " 0.62080636 0.62889935 0.64640965 0.65685697 0.65715127 0.64626251\n",
            " 0.63198941 0.62978222 0.63022366 0.63051795 0.63802237 0.65773985\n",
            " 0.6689229  0.67569158 0.67010006 0.67245438 0.6734844  0.67377869\n",
            " 0.67657446 0.68143025 0.68790465 0.6958505  0.69864626 0.69923484\n",
            " 0.69702766 0.68143025 0.66715715 0.66333137 0.66068275 0.66156563\n",
            " 0.6624485  0.66539141 0.67319011 0.68201883 0.69496763 0.70644497\n",
            " 0.72189523 0.7373455  0.7610359  0.78531489 0.79782225 0.80047087\n",
            " 0.79031783 0.77942908 0.77001177 0.77633902 0.78369629 0.78413773\n",
            " 0.78472631 0.79178929 0.79723367 0.80311948 0.80885815 0.81739258\n",
            " 0.82445556 0.82960565 0.82960565 0.82062978 0.82313125 0.83284285\n",
            " 0.83534432 0.83034138 0.82254267 0.80532666 0.78266627 0.75868158\n",
            " 0.73705121 0.70865215 0.68878752 0.68275456 0.67642731 0.6644069\n",
            " 0.65434134 0.64865953 0.64590847 0.64522809 0.64614815 0.64838439\n",
            " 0.6517154  0.65593016 0.66081458 0.66615611 0.67175096 0.6774109\n",
            " 0.68296748 0.68827432 0.69320822 0.69767016]\n",
            "17 day output [[0.70158535]]\n",
            "18 day input [0.61035903 0.60197175 0.59181872 0.58166569 0.57931136 0.58387287\n",
            " 0.58534432 0.58784579 0.59696881 0.60800471 0.61550912 0.62080636\n",
            " 0.62889935 0.64640965 0.65685697 0.65715127 0.64626251 0.63198941\n",
            " 0.62978222 0.63022366 0.63051795 0.63802237 0.65773985 0.6689229\n",
            " 0.67569158 0.67010006 0.67245438 0.6734844  0.67377869 0.67657446\n",
            " 0.68143025 0.68790465 0.6958505  0.69864626 0.69923484 0.69702766\n",
            " 0.68143025 0.66715715 0.66333137 0.66068275 0.66156563 0.6624485\n",
            " 0.66539141 0.67319011 0.68201883 0.69496763 0.70644497 0.72189523\n",
            " 0.7373455  0.7610359  0.78531489 0.79782225 0.80047087 0.79031783\n",
            " 0.77942908 0.77001177 0.77633902 0.78369629 0.78413773 0.78472631\n",
            " 0.79178929 0.79723367 0.80311948 0.80885815 0.81739258 0.82445556\n",
            " 0.82960565 0.82960565 0.82062978 0.82313125 0.83284285 0.83534432\n",
            " 0.83034138 0.82254267 0.80532666 0.78266627 0.75868158 0.73705121\n",
            " 0.70865215 0.68878752 0.68275456 0.67642731 0.6644069  0.65434134\n",
            " 0.64865953 0.64590847 0.64522809 0.64614815 0.64838439 0.6517154\n",
            " 0.65593016 0.66081458 0.66615611 0.67175096 0.6774109  0.68296748\n",
            " 0.68827432 0.69320822 0.69767016 0.70158535]\n",
            "18 day output [[0.70490295]]\n",
            "19 day input [0.60197175 0.59181872 0.58166569 0.57931136 0.58387287 0.58534432\n",
            " 0.58784579 0.59696881 0.60800471 0.61550912 0.62080636 0.62889935\n",
            " 0.64640965 0.65685697 0.65715127 0.64626251 0.63198941 0.62978222\n",
            " 0.63022366 0.63051795 0.63802237 0.65773985 0.6689229  0.67569158\n",
            " 0.67010006 0.67245438 0.6734844  0.67377869 0.67657446 0.68143025\n",
            " 0.68790465 0.6958505  0.69864626 0.69923484 0.69702766 0.68143025\n",
            " 0.66715715 0.66333137 0.66068275 0.66156563 0.6624485  0.66539141\n",
            " 0.67319011 0.68201883 0.69496763 0.70644497 0.72189523 0.7373455\n",
            " 0.7610359  0.78531489 0.79782225 0.80047087 0.79031783 0.77942908\n",
            " 0.77001177 0.77633902 0.78369629 0.78413773 0.78472631 0.79178929\n",
            " 0.79723367 0.80311948 0.80885815 0.81739258 0.82445556 0.82960565\n",
            " 0.82960565 0.82062978 0.82313125 0.83284285 0.83534432 0.83034138\n",
            " 0.82254267 0.80532666 0.78266627 0.75868158 0.73705121 0.70865215\n",
            " 0.68878752 0.68275456 0.67642731 0.6644069  0.65434134 0.64865953\n",
            " 0.64590847 0.64522809 0.64614815 0.64838439 0.6517154  0.65593016\n",
            " 0.66081458 0.66615611 0.67175096 0.6774109  0.68296748 0.68827432\n",
            " 0.69320822 0.69767016 0.70158535 0.70490295]\n",
            "19 day output [[0.70759517]]\n",
            "20 day input [0.59181872 0.58166569 0.57931136 0.58387287 0.58534432 0.58784579\n",
            " 0.59696881 0.60800471 0.61550912 0.62080636 0.62889935 0.64640965\n",
            " 0.65685697 0.65715127 0.64626251 0.63198941 0.62978222 0.63022366\n",
            " 0.63051795 0.63802237 0.65773985 0.6689229  0.67569158 0.67010006\n",
            " 0.67245438 0.6734844  0.67377869 0.67657446 0.68143025 0.68790465\n",
            " 0.6958505  0.69864626 0.69923484 0.69702766 0.68143025 0.66715715\n",
            " 0.66333137 0.66068275 0.66156563 0.6624485  0.66539141 0.67319011\n",
            " 0.68201883 0.69496763 0.70644497 0.72189523 0.7373455  0.7610359\n",
            " 0.78531489 0.79782225 0.80047087 0.79031783 0.77942908 0.77001177\n",
            " 0.77633902 0.78369629 0.78413773 0.78472631 0.79178929 0.79723367\n",
            " 0.80311948 0.80885815 0.81739258 0.82445556 0.82960565 0.82960565\n",
            " 0.82062978 0.82313125 0.83284285 0.83534432 0.83034138 0.82254267\n",
            " 0.80532666 0.78266627 0.75868158 0.73705121 0.70865215 0.68878752\n",
            " 0.68275456 0.67642731 0.6644069  0.65434134 0.64865953 0.64590847\n",
            " 0.64522809 0.64614815 0.64838439 0.6517154  0.65593016 0.66081458\n",
            " 0.66615611 0.67175096 0.6774109  0.68296748 0.68827432 0.69320822\n",
            " 0.69767016 0.70158535 0.70490295 0.70759517]\n",
            "20 day output [[0.7096565]]\n",
            "21 day input [0.58166569 0.57931136 0.58387287 0.58534432 0.58784579 0.59696881\n",
            " 0.60800471 0.61550912 0.62080636 0.62889935 0.64640965 0.65685697\n",
            " 0.65715127 0.64626251 0.63198941 0.62978222 0.63022366 0.63051795\n",
            " 0.63802237 0.65773985 0.6689229  0.67569158 0.67010006 0.67245438\n",
            " 0.6734844  0.67377869 0.67657446 0.68143025 0.68790465 0.6958505\n",
            " 0.69864626 0.69923484 0.69702766 0.68143025 0.66715715 0.66333137\n",
            " 0.66068275 0.66156563 0.6624485  0.66539141 0.67319011 0.68201883\n",
            " 0.69496763 0.70644497 0.72189523 0.7373455  0.7610359  0.78531489\n",
            " 0.79782225 0.80047087 0.79031783 0.77942908 0.77001177 0.77633902\n",
            " 0.78369629 0.78413773 0.78472631 0.79178929 0.79723367 0.80311948\n",
            " 0.80885815 0.81739258 0.82445556 0.82960565 0.82960565 0.82062978\n",
            " 0.82313125 0.83284285 0.83534432 0.83034138 0.82254267 0.80532666\n",
            " 0.78266627 0.75868158 0.73705121 0.70865215 0.68878752 0.68275456\n",
            " 0.67642731 0.6644069  0.65434134 0.64865953 0.64590847 0.64522809\n",
            " 0.64614815 0.64838439 0.6517154  0.65593016 0.66081458 0.66615611\n",
            " 0.67175096 0.6774109  0.68296748 0.68827432 0.69320822 0.69767016\n",
            " 0.70158535 0.70490295 0.70759517 0.70965648]\n",
            "21 day output [[0.7111009]]\n",
            "22 day input [0.57931136 0.58387287 0.58534432 0.58784579 0.59696881 0.60800471\n",
            " 0.61550912 0.62080636 0.62889935 0.64640965 0.65685697 0.65715127\n",
            " 0.64626251 0.63198941 0.62978222 0.63022366 0.63051795 0.63802237\n",
            " 0.65773985 0.6689229  0.67569158 0.67010006 0.67245438 0.6734844\n",
            " 0.67377869 0.67657446 0.68143025 0.68790465 0.6958505  0.69864626\n",
            " 0.69923484 0.69702766 0.68143025 0.66715715 0.66333137 0.66068275\n",
            " 0.66156563 0.6624485  0.66539141 0.67319011 0.68201883 0.69496763\n",
            " 0.70644497 0.72189523 0.7373455  0.7610359  0.78531489 0.79782225\n",
            " 0.80047087 0.79031783 0.77942908 0.77001177 0.77633902 0.78369629\n",
            " 0.78413773 0.78472631 0.79178929 0.79723367 0.80311948 0.80885815\n",
            " 0.81739258 0.82445556 0.82960565 0.82960565 0.82062978 0.82313125\n",
            " 0.83284285 0.83534432 0.83034138 0.82254267 0.80532666 0.78266627\n",
            " 0.75868158 0.73705121 0.70865215 0.68878752 0.68275456 0.67642731\n",
            " 0.6644069  0.65434134 0.64865953 0.64590847 0.64522809 0.64614815\n",
            " 0.64838439 0.6517154  0.65593016 0.66081458 0.66615611 0.67175096\n",
            " 0.6774109  0.68296748 0.68827432 0.69320822 0.69767016 0.70158535\n",
            " 0.70490295 0.70759517 0.70965648 0.71110088]\n",
            "22 day output [[0.71196014]]\n",
            "23 day input [0.58387287 0.58534432 0.58784579 0.59696881 0.60800471 0.61550912\n",
            " 0.62080636 0.62889935 0.64640965 0.65685697 0.65715127 0.64626251\n",
            " 0.63198941 0.62978222 0.63022366 0.63051795 0.63802237 0.65773985\n",
            " 0.6689229  0.67569158 0.67010006 0.67245438 0.6734844  0.67377869\n",
            " 0.67657446 0.68143025 0.68790465 0.6958505  0.69864626 0.69923484\n",
            " 0.69702766 0.68143025 0.66715715 0.66333137 0.66068275 0.66156563\n",
            " 0.6624485  0.66539141 0.67319011 0.68201883 0.69496763 0.70644497\n",
            " 0.72189523 0.7373455  0.7610359  0.78531489 0.79782225 0.80047087\n",
            " 0.79031783 0.77942908 0.77001177 0.77633902 0.78369629 0.78413773\n",
            " 0.78472631 0.79178929 0.79723367 0.80311948 0.80885815 0.81739258\n",
            " 0.82445556 0.82960565 0.82960565 0.82062978 0.82313125 0.83284285\n",
            " 0.83534432 0.83034138 0.82254267 0.80532666 0.78266627 0.75868158\n",
            " 0.73705121 0.70865215 0.68878752 0.68275456 0.67642731 0.6644069\n",
            " 0.65434134 0.64865953 0.64590847 0.64522809 0.64614815 0.64838439\n",
            " 0.6517154  0.65593016 0.66081458 0.66615611 0.67175096 0.6774109\n",
            " 0.68296748 0.68827432 0.69320822 0.69767016 0.70158535 0.70490295\n",
            " 0.70759517 0.70965648 0.71110088 0.71196014]\n",
            "23 day output [[0.7122807]]\n",
            "24 day input [0.58534432 0.58784579 0.59696881 0.60800471 0.61550912 0.62080636\n",
            " 0.62889935 0.64640965 0.65685697 0.65715127 0.64626251 0.63198941\n",
            " 0.62978222 0.63022366 0.63051795 0.63802237 0.65773985 0.6689229\n",
            " 0.67569158 0.67010006 0.67245438 0.6734844  0.67377869 0.67657446\n",
            " 0.68143025 0.68790465 0.6958505  0.69864626 0.69923484 0.69702766\n",
            " 0.68143025 0.66715715 0.66333137 0.66068275 0.66156563 0.6624485\n",
            " 0.66539141 0.67319011 0.68201883 0.69496763 0.70644497 0.72189523\n",
            " 0.7373455  0.7610359  0.78531489 0.79782225 0.80047087 0.79031783\n",
            " 0.77942908 0.77001177 0.77633902 0.78369629 0.78413773 0.78472631\n",
            " 0.79178929 0.79723367 0.80311948 0.80885815 0.81739258 0.82445556\n",
            " 0.82960565 0.82960565 0.82062978 0.82313125 0.83284285 0.83534432\n",
            " 0.83034138 0.82254267 0.80532666 0.78266627 0.75868158 0.73705121\n",
            " 0.70865215 0.68878752 0.68275456 0.67642731 0.6644069  0.65434134\n",
            " 0.64865953 0.64590847 0.64522809 0.64614815 0.64838439 0.6517154\n",
            " 0.65593016 0.66081458 0.66615611 0.67175096 0.6774109  0.68296748\n",
            " 0.68827432 0.69320822 0.69767016 0.70158535 0.70490295 0.70759517\n",
            " 0.70965648 0.71110088 0.71196014 0.71228069]\n",
            "24 day output [[0.7121205]]\n",
            "25 day input [0.58784579 0.59696881 0.60800471 0.61550912 0.62080636 0.62889935\n",
            " 0.64640965 0.65685697 0.65715127 0.64626251 0.63198941 0.62978222\n",
            " 0.63022366 0.63051795 0.63802237 0.65773985 0.6689229  0.67569158\n",
            " 0.67010006 0.67245438 0.6734844  0.67377869 0.67657446 0.68143025\n",
            " 0.68790465 0.6958505  0.69864626 0.69923484 0.69702766 0.68143025\n",
            " 0.66715715 0.66333137 0.66068275 0.66156563 0.6624485  0.66539141\n",
            " 0.67319011 0.68201883 0.69496763 0.70644497 0.72189523 0.7373455\n",
            " 0.7610359  0.78531489 0.79782225 0.80047087 0.79031783 0.77942908\n",
            " 0.77001177 0.77633902 0.78369629 0.78413773 0.78472631 0.79178929\n",
            " 0.79723367 0.80311948 0.80885815 0.81739258 0.82445556 0.82960565\n",
            " 0.82960565 0.82062978 0.82313125 0.83284285 0.83534432 0.83034138\n",
            " 0.82254267 0.80532666 0.78266627 0.75868158 0.73705121 0.70865215\n",
            " 0.68878752 0.68275456 0.67642731 0.6644069  0.65434134 0.64865953\n",
            " 0.64590847 0.64522809 0.64614815 0.64838439 0.6517154  0.65593016\n",
            " 0.66081458 0.66615611 0.67175096 0.6774109  0.68296748 0.68827432\n",
            " 0.69320822 0.69767016 0.70158535 0.70490295 0.70759517 0.70965648\n",
            " 0.71110088 0.71196014 0.71228069 0.71212047]\n",
            "25 day output [[0.71154493]]\n",
            "26 day input [0.59696881 0.60800471 0.61550912 0.62080636 0.62889935 0.64640965\n",
            " 0.65685697 0.65715127 0.64626251 0.63198941 0.62978222 0.63022366\n",
            " 0.63051795 0.63802237 0.65773985 0.6689229  0.67569158 0.67010006\n",
            " 0.67245438 0.6734844  0.67377869 0.67657446 0.68143025 0.68790465\n",
            " 0.6958505  0.69864626 0.69923484 0.69702766 0.68143025 0.66715715\n",
            " 0.66333137 0.66068275 0.66156563 0.6624485  0.66539141 0.67319011\n",
            " 0.68201883 0.69496763 0.70644497 0.72189523 0.7373455  0.7610359\n",
            " 0.78531489 0.79782225 0.80047087 0.79031783 0.77942908 0.77001177\n",
            " 0.77633902 0.78369629 0.78413773 0.78472631 0.79178929 0.79723367\n",
            " 0.80311948 0.80885815 0.81739258 0.82445556 0.82960565 0.82960565\n",
            " 0.82062978 0.82313125 0.83284285 0.83534432 0.83034138 0.82254267\n",
            " 0.80532666 0.78266627 0.75868158 0.73705121 0.70865215 0.68878752\n",
            " 0.68275456 0.67642731 0.6644069  0.65434134 0.64865953 0.64590847\n",
            " 0.64522809 0.64614815 0.64838439 0.6517154  0.65593016 0.66081458\n",
            " 0.66615611 0.67175096 0.6774109  0.68296748 0.68827432 0.69320822\n",
            " 0.69767016 0.70158535 0.70490295 0.70759517 0.70965648 0.71110088\n",
            " 0.71196014 0.71228069 0.71212047 0.71154493]\n",
            "26 day output [[0.71062493]]\n",
            "27 day input [0.60800471 0.61550912 0.62080636 0.62889935 0.64640965 0.65685697\n",
            " 0.65715127 0.64626251 0.63198941 0.62978222 0.63022366 0.63051795\n",
            " 0.63802237 0.65773985 0.6689229  0.67569158 0.67010006 0.67245438\n",
            " 0.6734844  0.67377869 0.67657446 0.68143025 0.68790465 0.6958505\n",
            " 0.69864626 0.69923484 0.69702766 0.68143025 0.66715715 0.66333137\n",
            " 0.66068275 0.66156563 0.6624485  0.66539141 0.67319011 0.68201883\n",
            " 0.69496763 0.70644497 0.72189523 0.7373455  0.7610359  0.78531489\n",
            " 0.79782225 0.80047087 0.79031783 0.77942908 0.77001177 0.77633902\n",
            " 0.78369629 0.78413773 0.78472631 0.79178929 0.79723367 0.80311948\n",
            " 0.80885815 0.81739258 0.82445556 0.82960565 0.82960565 0.82062978\n",
            " 0.82313125 0.83284285 0.83534432 0.83034138 0.82254267 0.80532666\n",
            " 0.78266627 0.75868158 0.73705121 0.70865215 0.68878752 0.68275456\n",
            " 0.67642731 0.6644069  0.65434134 0.64865953 0.64590847 0.64522809\n",
            " 0.64614815 0.64838439 0.6517154  0.65593016 0.66081458 0.66615611\n",
            " 0.67175096 0.6774109  0.68296748 0.68827432 0.69320822 0.69767016\n",
            " 0.70158535 0.70490295 0.70759517 0.70965648 0.71110088 0.71196014\n",
            " 0.71228069 0.71212047 0.71154493 0.71062493]\n",
            "27 day output [[0.70943266]]\n",
            "28 day input [0.61550912 0.62080636 0.62889935 0.64640965 0.65685697 0.65715127\n",
            " 0.64626251 0.63198941 0.62978222 0.63022366 0.63051795 0.63802237\n",
            " 0.65773985 0.6689229  0.67569158 0.67010006 0.67245438 0.6734844\n",
            " 0.67377869 0.67657446 0.68143025 0.68790465 0.6958505  0.69864626\n",
            " 0.69923484 0.69702766 0.68143025 0.66715715 0.66333137 0.66068275\n",
            " 0.66156563 0.6624485  0.66539141 0.67319011 0.68201883 0.69496763\n",
            " 0.70644497 0.72189523 0.7373455  0.7610359  0.78531489 0.79782225\n",
            " 0.80047087 0.79031783 0.77942908 0.77001177 0.77633902 0.78369629\n",
            " 0.78413773 0.78472631 0.79178929 0.79723367 0.80311948 0.80885815\n",
            " 0.81739258 0.82445556 0.82960565 0.82960565 0.82062978 0.82313125\n",
            " 0.83284285 0.83534432 0.83034138 0.82254267 0.80532666 0.78266627\n",
            " 0.75868158 0.73705121 0.70865215 0.68878752 0.68275456 0.67642731\n",
            " 0.6644069  0.65434134 0.64865953 0.64590847 0.64522809 0.64614815\n",
            " 0.64838439 0.6517154  0.65593016 0.66081458 0.66615611 0.67175096\n",
            " 0.6774109  0.68296748 0.68827432 0.69320822 0.69767016 0.70158535\n",
            " 0.70490295 0.70759517 0.70965648 0.71110088 0.71196014 0.71228069\n",
            " 0.71212047 0.71154493 0.71062493 0.70943266]\n",
            "28 day output [[0.708039]]\n",
            "29 day input [0.62080636 0.62889935 0.64640965 0.65685697 0.65715127 0.64626251\n",
            " 0.63198941 0.62978222 0.63022366 0.63051795 0.63802237 0.65773985\n",
            " 0.6689229  0.67569158 0.67010006 0.67245438 0.6734844  0.67377869\n",
            " 0.67657446 0.68143025 0.68790465 0.6958505  0.69864626 0.69923484\n",
            " 0.69702766 0.68143025 0.66715715 0.66333137 0.66068275 0.66156563\n",
            " 0.6624485  0.66539141 0.67319011 0.68201883 0.69496763 0.70644497\n",
            " 0.72189523 0.7373455  0.7610359  0.78531489 0.79782225 0.80047087\n",
            " 0.79031783 0.77942908 0.77001177 0.77633902 0.78369629 0.78413773\n",
            " 0.78472631 0.79178929 0.79723367 0.80311948 0.80885815 0.81739258\n",
            " 0.82445556 0.82960565 0.82960565 0.82062978 0.82313125 0.83284285\n",
            " 0.83534432 0.83034138 0.82254267 0.80532666 0.78266627 0.75868158\n",
            " 0.73705121 0.70865215 0.68878752 0.68275456 0.67642731 0.6644069\n",
            " 0.65434134 0.64865953 0.64590847 0.64522809 0.64614815 0.64838439\n",
            " 0.6517154  0.65593016 0.66081458 0.66615611 0.67175096 0.6774109\n",
            " 0.68296748 0.68827432 0.69320822 0.69767016 0.70158535 0.70490295\n",
            " 0.70759517 0.70965648 0.71110088 0.71196014 0.71228069 0.71212047\n",
            " 0.71154493 0.71062493 0.70943266 0.70803899]\n",
            "29 day output [[0.7065113]]\n",
            "[[0.6644068956375122], [0.6543413400650024], [0.6486595273017883], [0.6459084749221802], [0.6452280879020691], [0.646148145198822], [0.6483843922615051], [0.6517153978347778], [0.6559301614761353], [0.6608145833015442], [0.6661561131477356], [0.6717509627342224], [0.677410900592804], [0.682967483997345], [0.6882743239402771], [0.6932082176208496], [0.6976701617240906], [0.7015853524208069], [0.7049029469490051], [0.70759516954422], [0.7096564769744873], [0.7111008763313293], [0.7119601368904114], [0.7122806906700134], [0.7121204733848572], [0.711544930934906], [0.7106249332427979], [0.7094326615333557], [0.7080389857292175], [0.7065113186836243]]\n"
          ]
        }
      ],
      "source": [
        "from numpy import array\n",
        "\n",
        "lst_output = []\n",
        "n_steps = 100\n",
        "i = 0\n",
        "while (i<30):\n",
        "  if (len(temp_input)>100):\n",
        "    x_input = np.array(temp_input[1:])\n",
        "    print('{} day input {}'.format(i,x_input))\n",
        "    x_input = x_input.reshape(1,-1)\n",
        "    x_input = x_input.reshape((1,n_steps,1))\n",
        "\n",
        "    yhat = model.predict(x_input,verbose=0)\n",
        "    print('{} day output {}'.format(i,yhat))\n",
        "    temp_input.extend(yhat[0].tolist())\n",
        "    temp_input = temp_input[1:]\n",
        "    lst_output.extend(yhat.tolist())\n",
        "    i+=1\n",
        "  else:\n",
        "    x_input = x_input.reshape((1,n_steps,1))\n",
        "    yhat = model.predict(x_input,verbose=0)\n",
        "    print(yhat[0])\n",
        "    temp_input.extend(yhat[0].tolist())\n",
        "    print(len(temp_input))\n",
        "    lst_output.extend(yhat.tolist())\n",
        "    i = i+1\n",
        "  \n",
        "print(lst_output)"
      ]
    },
    {
      "cell_type": "code",
      "execution_count": 89,
      "metadata": {
        "id": "6X8K1bW5JVWF"
      },
      "outputs": [],
      "source": [
        "day_new = np.arange(1,101)\n",
        "day_pred = np.arange(101,131)"
      ]
    },
    {
      "cell_type": "code",
      "execution_count": 90,
      "metadata": {
        "colab": {
          "base_uri": "https://localhost:8080/"
        },
        "id": "M7hHEvGqJevw",
        "outputId": "3513a173-0ca5-414b-a29b-3202df05999c"
      },
      "outputs": [
        {
          "data": {
            "text/plain": [
              "809"
            ]
          },
          "execution_count": 90,
          "metadata": {},
          "output_type": "execute_result"
        }
      ],
      "source": [
        "len(df1)"
      ]
    },
    {
      "cell_type": "code",
      "execution_count": 91,
      "metadata": {
        "id": "sT1z-fUgJh82"
      },
      "outputs": [],
      "source": [
        "df2 = df1.tolist()\n",
        "df2.extend(lst_output)"
      ]
    },
    {
      "cell_type": "code",
      "execution_count": 92,
      "metadata": {
        "colab": {
          "base_uri": "https://localhost:8080/",
          "height": 282
        },
        "id": "59ay-ahHJu0A",
        "outputId": "c22bb088-dc8b-450a-e80b-9708b66776e2"
      },
      "outputs": [
        {
          "data": {
            "text/plain": [
              "[<matplotlib.lines.Line2D at 0x7f3bf7b3bdc0>]"
            ]
          },
          "execution_count": 92,
          "metadata": {},
          "output_type": "execute_result"
        },
        {
          "data": {
            "image/png": "[encoded data removed]",
            "text/plain": [
              "<Figure size 432x288 with 1 Axes>"
            ]
          },
          "metadata": {
            "needs_background": "light"
          },
          "output_type": "display_data"
        }
      ],
      "source": [
        "plt.plot(day_new,scaler.inverse_transform(df1[709:]))\n",
        "plt.plot(day_pred,scaler.inverse_transform(lst_output))"
      ]
    },
    {
      "cell_type": "code",
      "execution_count": 92,
      "metadata": {
        "id": "6LAYqpgJR3x1"
      },
      "outputs": [],
      "source": []
    }
  ],
  "metadata": {
    "accelerator": "GPU",
    "colab": {
      "provenance": []
    },
    "gpuClass": "standard",
    "kernelspec": {
      "display_name": "Python 3",
      "name": "python3"
    },
    "language_info": {
      "name": "python",
      "version": "3.10.4"
    }
  },
  "nbformat": 4,
  "nbformat_minor": 0
}
